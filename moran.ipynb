{
 "cells": [
  {
   "cell_type": "markdown",
   "metadata": {
    "colab_type": "text",
    "id": "view-in-github"
   },
   "source": [
    "<a href=\"https://colab.research.google.com/github/aeyuan/moran_lesson/blob/master/moran.ipynb\" target=\"_parent\"><img src=\"https://colab.research.google.com/assets/colab-badge.svg\" alt=\"Open In Colab\"/></a>"
   ]
  },
  {
   "cell_type": "markdown",
   "metadata": {
    "colab_type": "text",
    "id": "19h9j5BPHacv"
   },
   "source": [
    "# ❗Important: Run the code at the bottom first❗\n",
    "\n",
    "Otherwise, nothing else will work and you will just get a bunch of errors. You can run a code block by hilighting it and pressing `Shift+Enter`."
   ]
  },
  {
   "cell_type": "markdown",
   "metadata": {
    "colab_type": "text",
    "id": "0AhueP9y_qgk"
   },
   "source": [
    "# 1: Moran process with two alleles from a single mutantion event\n",
    "\n",
    "The code below simulates the moran process that we just discussed. Specifically, we have a population with 100 cells and there are two alleles, A and B. Initially, 99 of the cells are type A and 1 cell is type B (e.g. B is a newly arising mutation). Additionally, type A cells always have a growth rate of 1 and type B cells have a growth rate of $r$.\n",
    "\n",
    "Play around with the parameter $r$.\n",
    "\n",
    "For the other parameters, set:\n",
    "* `n_trials = 500`\n",
    "* `population_size = 100`\n",
    "* `init_n_mutants = 1`\n",
    "* `max_iter = 10**5` # (in python, $10^5$ is written `10**5`)\n",
    "\n",
    "Try  setting $r=1.0, 1.03, 1.06, 1.09, \\mathrm{and} \\ 1.12$\n",
    "\n",
    "and record the number of trials where the new allele B takes over the population in each of these cases. Later, we will combine all of our results together. To run the code, hilight the code block and press `Shift+Enter`."
   ]
  },
  {
   "cell_type": "code",
   "execution_count": null,
   "metadata": {
    "colab": {},
    "colab_type": "code",
    "id": "h_Qgaz83_TL-"
   },
   "outputs": [],
   "source": [
    "n_trials = 500\n",
    "population_size = 100\n",
    "initial_n_mutants = 1\n",
    "r = 1.03\n",
    "max_iter = 10 ** 5\n",
    "\n",
    "plot_selection(n_trials, population_size, initial_n_mutants, r, max_iter, seed)"
   ]
  },
  {
   "cell_type": "markdown",
   "metadata": {
    "colab_type": "text",
    "id": "gMsJNkeBH79_"
   },
   "source": [
    "## Discussion\n",
    "\n",
    "* What do you notice about the relationship between $r$ and the fraction of mutations that take over the culture? Do most of the beneficial mutations in this simulation end up taking over the population? Discuss with your partners.\n",
    "\n",
    "* The simulation runs until the mutant allele either takes over (i.e. achieves a frequency of 100%) or goes extinct. Once either of these two occurs, the simulation stops. Compare the stopping times of mutations that end up taking over versus mutations that go extinct. What do you see?\n",
    "\n",
    "* If time allows: Try increasing $r$ above 1.12. How high does $r$ need to be in order to have the mutation take over half of the time?"
   ]
  },
  {
   "cell_type": "markdown",
   "metadata": {
    "colab_type": "text",
    "id": "Q6yjQE2yMdhm"
   },
   "source": [
    "# 2: Moran process with constant mutations\n",
    "\n",
    "In this simulation, we will follow a population with two alleles: A, and B. The population will start out with 100% type A, but cells will at some frequecy mutate to type B. This is different from part (1) because in part (1), we initially had a frequency of 99% A and 1% B, but no mutations occurred during the simulation.\n",
    "\n",
    "At each time step, each cell has a probability set by the parameter `mu` of suffering a mutation. Type B mutants grow 10% faster than nonmutant cells because `r=1.1`.\n",
    "\n",
    "Run the code below. This section takes a couple minutes to run. Record the fraction of replicates in which the mutation roughly takes over (>80% frequency by the end)."
   ]
  },
  {
   "cell_type": "code",
   "execution_count": null,
   "metadata": {
    "colab": {},
    "colab_type": "code",
    "id": "-T7szYFXO_vA"
   },
   "outputs": [],
   "source": [
    "n_replicates = 10      # The number of independent replicates\n",
    "n_genes = 1            # The number of genes undergoing mutation\n",
    "mu = 10**-6            # The mutation rate (probability of muation per cell per allele per timestep)\n",
    "pop_size = 500         # The population size\n",
    "r = 1.1                # The fitness of mutants (nonmutants have fitness=1)\n",
    "n_steps = 150000       # The number of timesteps to run the simulation\n",
    "\n",
    "color=None\n",
    "plot_mutation_selection(seed, color, n_replicates, n_genes, mu, pop_size, r, n_steps)"
   ]
  },
  {
   "cell_type": "markdown",
   "metadata": {
    "colab_type": "text",
    "id": "2sKxRqbphzkz"
   },
   "source": [
    "## Discussion\n",
    "\n",
    "How is this process different from the process in part (1)?\n",
    "\n",
    "Write the fraction of times you saw the mutation take over on the board."
   ]
  },
  {
   "cell_type": "markdown",
   "metadata": {
    "colab_type": "text",
    "id": "nqrucf9SYxU-"
   },
   "source": [
    "# 3: Moran process with mutations at multiple genes\n",
    "\n",
    "This cell has the same settings as above, except now there are 5 genes, and we're only running a single replicate. That means that the different colors will represent mutants of different genes.\n",
    "\n",
    "Set the random number seed to 1, so that we can all see the same dynamics. Later, you can play around with different random number seeds and different parameter values to see what happens.\n",
    "\n",
    "Run the cell.\n"
   ]
  },
  {
   "cell_type": "code",
   "execution_count": null,
   "metadata": {
    "colab": {},
    "colab_type": "code",
    "id": "UlwzveiuK4sr"
   },
   "outputs": [],
   "source": [
    "seed = 1               # The random number seed\n",
    "n_replicates = 1       # The number of independent replicates\n",
    "n_genes = 5            # The number of genes undergoing mutation\n",
    "mu = 10**-6            # The mutation rate (probability of muation per cell per allele per timestep)\n",
    "pop_size = 500         # The population size\n",
    "r = 1.1                # The fitness of mutants (nonmutants have fitness=1)\n",
    "n_steps = 150000       # The number of timesteps to run the simulation\n",
    "\n",
    "color = None\n",
    "plot_mutation_selection(seed, color, n_replicates, n_genes, mu, pop_size, r, n_steps)"
   ]
  },
  {
   "cell_type": "markdown",
   "metadata": {
    "colab_type": "text",
    "id": "7j32EnUcjcbY"
   },
   "source": [
    "## Discussion\n",
    "\n",
    "* If you used `seed=1` above, you should see mutants at the blue gene rise to around 50% in frequency, and then fall back down to near-extinction. This behavior (almost) never happens when we only have one gene at a time (as in part 2), but in this case it is not unusual\\*. What might be happening here\\*\\* ?\n",
    "\n",
    "* If you used `seed=1` above, you should see the mutant frequencies at the blue and orange genes tracing each other. Why do you think this is?\n",
    "\n",
    "\n",
    "```\n",
    "\n",
    "\n",
    "```\n",
    "\n",
    "\\* I tried setting seed to 1 through 10 and saw it with seed = 1, 3, 4, 6, 7.\n",
    "\n",
    "\\** Hint: If you run the simulation with seed=7, then between 40000 and 70000 time steps the green and purple alleles appear to mirror each other. What does this suggest?\n"
   ]
  },
  {
   "cell_type": "markdown",
   "metadata": {
    "colab_type": "text",
    "id": "R4So5ta6_lx0"
   },
   "source": [
    "# Important: Run this cell first.\n",
    "\n",
    "Otherwise nothing else in this notebook will work."
   ]
  },
  {
   "cell_type": "code",
   "execution_count": null,
   "metadata": {
    "colab": {},
    "colab_type": "code",
    "id": "hvpl4FM0_MAN"
   },
   "outputs": [],
   "source": [
    "import numpy as np\n",
    "import matplotlib.pyplot as plt\n",
    "import seaborn as sns\n",
    "import warnings\n",
    "import time\n",
    "\n",
    "def moran(N, num_A_init, r=1, max_iter=np.inf):\n",
    "    \"\"\"\n",
    "    Args:\n",
    "        N (int): population size (i.e. total number of individuals)\n",
    "        num_A_init (int): initial number of individuals of type \"A\"\n",
    "        r (numeric): fitness of individuals of type \"A\"\n",
    "            (fitness of type \"B\" individuals is assumed to be 1)\n",
    "        max_iter (numeric): maximum number of iterations\n",
    "    \"\"\"\n",
    "    num_A = [num_A_init]\n",
    "    n_iter = 0\n",
    "    while (num_A[-1] > 0) and (num_A[-1] < N) and n_iter < max_iter:\n",
    "        n_iter += 1\n",
    "        i = num_A[-1]\n",
    "        prob_inc_A = (r * i) * (N - i) / ((r * i + N - i) * (N))\n",
    "        prob_dec_A = (N - i) * (i) / ((r * i + N - i) * (N))\n",
    "        weights = [prob_inc_A, prob_dec_A, 1-(prob_inc_A + prob_dec_A)]\n",
    "        decision = np.random.choice(['inc_A','dec_A','same'], size=1, p=weights)\n",
    "        if decision == 'inc_A':\n",
    "            num_A.append(i+1)\n",
    "        if decision == 'dec_A':\n",
    "            num_A.append(i-1)\n",
    "        if decision == 'same':\n",
    "            num_A.append(i)\n",
    "    return num_A\n",
    "\n",
    "def plot_selection(n_trials, population_size, init_num_A, r, max_iter, seed):\n",
    "    np.random.seed(seed)\n",
    "    trajectories = []\n",
    "    total_time = []\n",
    "    A_fixes = []\n",
    "    for i in range(n_trials):\n",
    "        traj = moran(population_size, init_num_A, r, max_iter)\n",
    "        trajectories.append(traj)\n",
    "        total_time.append(len(traj))\n",
    "        A_fixes.append(traj[-1] == population_size)\n",
    "    total_time = np.array(total_time)\n",
    "    A_fixes = np.array(A_fixes)\n",
    "\n",
    "    plt.figure(figsize=[10,6])\n",
    "    for t_idx, traj in enumerate(trajectories):\n",
    "        plt.semilogx(np.array(traj)/population_size)\n",
    "        if traj[-1] == population_size:\n",
    "            plt.scatter([len(traj)-1], [1.05], s=50, marker=\"|\",\n",
    "                        color='blue')\n",
    "        if traj[-1] == 0:\n",
    "            plt.scatter([len(traj)-1], [-0.05], s=30, marker=\"|\",\n",
    "                        color='red')\n",
    "    plt.xlabel(\"time steps\", fontsize=16)\n",
    "    plt.xticks(size=14)\n",
    "    plt.ylabel(\"mutant allele frequency\", fontsize=16)\n",
    "    plt.yticks(size=14)\n",
    "    plt.title(f'Trajectories (mutation took over in {sum(A_fixes)} of {n_trials} trials)',\n",
    "              fontsize=16)\n",
    "    plt.show()\n",
    "\n",
    "    with warnings.catch_warnings():\n",
    "        warnings.simplefilter(\"ignore\")\n",
    "        plt.figure(figsize=[10,4.5])\n",
    "        sns.distplot(total_time[A_fixes], kde=False, color='blue')\n",
    "        sns.distplot(total_time[np.logical_not(A_fixes)], kde=False, color='red')\n",
    "        plt.legend(['mutation took over', 'mutation went extinct'], fontsize=14)\n",
    "        plt.xlabel(\"stopping time\", fontsize=16)\n",
    "        plt.xticks(size=14)\n",
    "        plt.ylabel(\"trials\", fontsize=16)\n",
    "        plt.yticks(size=14)\n",
    "        plt.title('Stopping time distributions', fontsize=16)\n",
    "        plt.show()\n",
    "\n",
    "### moran process with clonal interference\n",
    "\n",
    "def recursive_fxn(a, list_, n):\n",
    "    if len(list_) == n: # base case\n",
    "        a.append(tuple(list_))\n",
    "    else: # recursive case\n",
    "        recursive_fxn(a, list_ + [0], n)\n",
    "        recursive_fxn(a, list_ + [1], n)\n",
    "def get_bin_perms(n):\n",
    "    # get a list of all binary vectors of length n\n",
    "    a = []\n",
    "    recursive_fxn(a, [], n)\n",
    "    return a\n",
    "\n",
    "def get_gtype_mut_to(gtype_mut_from):\n",
    "    mut_allele = np.random.choice(len(gtype_mut_from))\n",
    "    gtype_mut_to = list(gtype_mut_from)\n",
    "    gtype_mut_to[mut_allele] = np.logical_not(gtype_mut_to[mut_allele]).astype('int')\n",
    "    return tuple(gtype_mut_to)\n",
    "\n",
    "def get_dim_slices(n_dims):\n",
    "    # get a bunch of slicing objects for indexing \"sides\" of many-dimensional\n",
    "    # tensors\n",
    "    a = []\n",
    "    start = tuple(slice(2) for _ in range(n_dims))\n",
    "    for i in range(n_dims):\n",
    "        a_ = list(start)\n",
    "        a_[i] = 1\n",
    "        a.append(a_)\n",
    "    return a\n",
    "\n",
    "def moran_clonal_int(n_loci, mu, pop_size, r, n_iter):\n",
    "    \"\"\"\n",
    "    Args:\n",
    "        n_loci (int): number of loci under mutation and selection\n",
    "        mu (numeric): for each cell and each locus at each generation, that cell\n",
    "                        will suffer a mutation at that locus with probability\n",
    "                        mu\n",
    "        pop_size (int): the number of cells in the population.\n",
    "        r (numeric): relative fitness of mutant over wild-type; fitness effects\n",
    "                        in this simulation are additive: for a two-locus\n",
    "                        population where r=1.15, wild-type cells have fitness=1,\n",
    "                        mutants at one of the two loci have fitness=1.15, and\n",
    "                        cells with mutations at both loci have fitness=1.3.\n",
    "        n_iter (int): number of birth/replacement iterations to run\n",
    "    \n",
    "    Returns:\n",
    "        a matrix where rows are iterations and columns are number of mutant\n",
    "        individuals at each locus\n",
    "    \"\"\"\n",
    "    # initialization\n",
    "    mu = mu * n_loci # mutation rate is per-locus\n",
    "    state = np.zeros([2 for _ in range(n_loci)]) # current allele distribution\n",
    "    state[tuple(0 for _ in range(n_loci))] = pop_size # initial allele distribution\n",
    "    gtypes = get_bin_perms(n_loci) # list of possible genotypes.\n",
    "    n_gtypes = len(gtypes) # number of possible genotypes. n_gtypes = 2 ** n_loci\n",
    "    advantage = np.sum(np.array(gtypes), axis=1) # fitness advantage of muts over wt\n",
    "    weights = (r - 1) * advantage + 1 # probabilty weights for cell division\n",
    "    dim_slices = get_dim_slices(n_loci) # list of dimension slices for the ledger\n",
    "    ledger = np.zeros([n_iter, n_loci]) # ledger to record allele frequencies\n",
    "    for iteration in range(n_iter):\n",
    "        # record in ledger\n",
    "        for i in range(n_loci):\n",
    "            ledger[iteration, i] = np.sum(state[dim_slices[i]])\n",
    "        # a single moran step\n",
    "        p_divide = np.ravel(state) * weights\n",
    "        p_divide = p_divide / np.sum(p_divide)\n",
    "        idx_divide = np.random.choice(n_gtypes, p=p_divide)\n",
    "        p_replaced = np.ravel(state) / pop_size\n",
    "        idx_replaced = np.random.choice(n_gtypes, p=p_replaced)\n",
    "        state[gtypes[idx_divide]] += 1\n",
    "        state[gtypes[idx_replaced]] -= 1\n",
    "        # a single mutation step\n",
    "        n_muts = np.random.binomial(pop_size, mu)\n",
    "        for _ in range(n_muts):\n",
    "            p_mut = np.ravel(state) / pop_size\n",
    "            gtype_mut_from = gtypes[np.random.choice(n_gtypes, p=p_mut)]\n",
    "            gtype_mut_to = get_gtype_mut_to(gtype_mut_from)\n",
    "            state[gtype_mut_from] -= 1\n",
    "            state[gtype_mut_to] += 1\n",
    "    return ledger\n",
    "\n",
    "# make plots for moran process with clonal interference\n",
    "\n",
    "def plot_mutation_selection(seed, color, n_replicates, n_loci, mu, pop_size,\n",
    "               r, n_steps):\n",
    "  np.random.seed(seed)\n",
    "  plt.figure(figsize=[10,6])\n",
    "  for i in range(n_replicates):\n",
    "    ledger = moran_clonal_int(n_loci, mu, pop_size, r, n_steps)\n",
    "    plt.plot(ledger / pop_size, color=color)\n",
    "    plt.ylim([0, 1])\n",
    "  plt.xlabel(\"time steps\", fontsize=16)\n",
    "  plt.xticks(size=14)\n",
    "  plt.ylabel(\"mutant allele frequency\", fontsize=16)\n",
    "  plt.yticks(size=14)\n",
    "  title = f' {n_replicates} replicate of mutation-selection process with {n_loci} genes'\n",
    "  if n_replicates > 1:\n",
    "    title = title.replace('replicate', 'replicates')\n",
    "  if n_loci > 1:\n",
    "    title = title.replace('gene', 'genes')\n",
    "  plt.title(title, fontsize=16)\n",
    "  plt.show()\n",
    "\n",
    "seed = int(str(time.time()).replace('.','')[-6:])"
   ]
  },
  {
   "cell_type": "code",
   "execution_count": null,
   "metadata": {},
   "outputs": [],
   "source": []
  }
 ],
 "metadata": {
  "colab": {
   "collapsed_sections": [],
   "include_colab_link": true,
   "name": "moran.ipynb",
   "provenance": [],
   "version": "0.3.2"
  },
  "kernelspec": {
   "display_name": "Python 3",
   "language": "python",
   "name": "python3"
  },
  "language_info": {
   "codemirror_mode": {
    "name": "ipython",
    "version": 3
   },
   "file_extension": ".py",
   "mimetype": "text/x-python",
   "name": "python",
   "nbconvert_exporter": "python",
   "pygments_lexer": "ipython3",
   "version": "3.6.8"
  }
 },
 "nbformat": 4,
 "nbformat_minor": 1
}
